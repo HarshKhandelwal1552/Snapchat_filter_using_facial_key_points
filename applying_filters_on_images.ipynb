{
 "cells": [
  {
   "cell_type": "markdown",
   "metadata": {},
   "source": [
    "# Importing our required libraries"
   ]
  },
  {
   "cell_type": "code",
   "execution_count": 1,
   "metadata": {},
   "outputs": [],
   "source": [
    "# importing required liberaries\n",
    "import requests\n",
    "import numpy as np\n",
    "import cv2\n",
    "from mpl_toolkits import mplot3d\n",
    "from sklearn.cluster import KMeans\n",
    "import itertools\n",
    "from IPython.display import clear_output\n"
   ]
  },
  {
   "cell_type": "code",
   "execution_count": 2,
   "metadata": {},
   "outputs": [],
   "source": [
    "import pandas as pd \n",
    "import numpy as np\n",
    "import matplotlib.pyplot as plt \n",
    "import tensorflow as tf \n",
    "from tensorflow.keras import Sequential\n",
    "from tensorflow.keras.layers import *\n",
    "from tensorflow.keras.models import Model,load_model\n",
    "from tensorflow.keras.initializers import glorot_uniform\n",
    "from tensorflow.keras.utils import plot_model\n",
    "from IPython.display import display\n",
    "from tensorflow.keras.preprocessing.image import img_to_array, array_to_img\n",
    "import copy"
   ]
  },
  {
   "cell_type": "code",
   "execution_count": 3,
   "metadata": {},
   "outputs": [],
   "source": [
    "# this gives a track of the latest frame displayed by open cv\n",
    "var_p1 = [] \n",
    "image_with_filter = [] \n",
    "\n",
    "# setting up our highper parameters for displaying facial key points if needed\n",
    "color = (0, 0, 255) \n",
    "thickness = 2\n",
    "radius = 2"
   ]
  },
  {
   "cell_type": "markdown",
   "metadata": {},
   "source": [
    "# Loading  architechture and weights of our Trained model"
   ]
  },
  {
   "cell_type": "markdown",
   "metadata": {},
   "source": [
    "We are loading the architecture of our pretrained model from .json file\n",
    "Loading weights from the .hdf5 file "
   ]
  },
  {
   "cell_type": "code",
   "execution_count": 4,
   "metadata": {},
   "outputs": [],
   "source": [
    "with open('KeyPointDetector.json','r') as json_file:\n",
    "\n",
    "    json_SavedModel = json_file.read()\n",
    "model = tf.keras.models.model_from_json(json_SavedModel)\n",
    "model.load_weights('weights.hdf5')"
   ]
  },
  {
   "cell_type": "markdown",
   "metadata": {},
   "source": [
    "Getting the names of key points"
   ]
  },
  {
   "cell_type": "code",
   "execution_count": 6,
   "metadata": {},
   "outputs": [
    {
     "data": {
      "text/plain": [
       "Index(['left_eye_center_x', 'left_eye_center_y', 'right_eye_center_x',\n",
       "       'right_eye_center_y', 'left_eye_inner_corner_x',\n",
       "       'left_eye_inner_corner_y', 'left_eye_outer_corner_x',\n",
       "       'left_eye_outer_corner_y', 'right_eye_inner_corner_x',\n",
       "       'right_eye_inner_corner_y', 'right_eye_outer_corner_x',\n",
       "       'right_eye_outer_corner_y', 'left_eyebrow_inner_end_x',\n",
       "       'left_eyebrow_inner_end_y', 'left_eyebrow_outer_end_x',\n",
       "       'left_eyebrow_outer_end_y', 'right_eyebrow_inner_end_x',\n",
       "       'right_eyebrow_inner_end_y', 'right_eyebrow_outer_end_x',\n",
       "       'right_eyebrow_outer_end_y', 'nose_tip_x', 'nose_tip_y',\n",
       "       'mouth_left_corner_x', 'mouth_left_corner_y', 'mouth_right_corner_x',\n",
       "       'mouth_right_corner_y', 'mouth_center_top_lip_x',\n",
       "       'mouth_center_top_lip_y', 'mouth_center_bottom_lip_x',\n",
       "       'mouth_center_bottom_lip_y'],\n",
       "      dtype='object')"
      ]
     },
     "execution_count": 6,
     "metadata": {},
     "output_type": "execute_result"
    }
   ],
   "source": [
    "facialpoints_df = pd.read_csv('training.csv')\n",
    "columns = facialpoints_df.columns[:-1]\n",
    "del facialpoints_df\n",
    "columns"
   ]
  },
  {
   "cell_type": "code",
   "execution_count": 8,
   "metadata": {},
   "outputs": [
    {
     "data": {
      "text/plain": [
       "30"
      ]
     },
     "execution_count": 8,
     "metadata": {},
     "output_type": "execute_result"
    }
   ],
   "source": [
    "len(columns)"
   ]
  },
  {
   "cell_type": "markdown",
   "metadata": {},
   "source": [
    "Using Haarcascade classifier to detect the frountal face"
   ]
  },
  {
   "cell_type": "code",
   "execution_count": 9,
   "metadata": {},
   "outputs": [],
   "source": [
    "face_cascade = cv2.CascadeClassifier('haarcascade_frontalface_default.xml')"
   ]
  },
  {
   "cell_type": "markdown",
   "metadata": {},
   "source": [
    "# Filters"
   ]
  },
  {
   "cell_type": "markdown",
   "metadata": {},
   "source": [
    "loading the filters from filters folder\n",
    "I am using santa beard as filter but you can add more filters"
   ]
  },
  {
   "cell_type": "code",
   "execution_count": 10,
   "metadata": {},
   "outputs": [],
   "source": [
    "filter_image = cv2.imread('filters/santa_filter.png',-1)\n",
    "filter_image  = filter_image.astype(np.int16)\n",
    "filter_image_copy = copy.copy(filter_image)"
   ]
  },
  {
   "cell_type": "markdown",
   "metadata": {},
   "source": [
    "# K Means clustering"
   ]
  },
  {
   "cell_type": "markdown",
   "metadata": {},
   "source": [
    "Since, we have the hardware restrictions.Therefore the model is trained on image shape of (96 X 96 X 1).\n",
    "The key points predicted are also on the image of size (96 X 96 X 1).\n",
    "In order to get keypoints on higher image dimensions we use the Kmeans clustering \n",
    "Furthur detailed visuals are given at in the 'detecting_facial_points.ipynb' notebook"
   ]
  },
  {
   "cell_type": "code",
   "execution_count": 11,
   "metadata": {},
   "outputs": [],
   "source": [
    "    kmeans = KMeans(\n",
    "                init=\"random\",\n",
    "                n_clusters=1,\n",
    "                n_init=1,\n",
    "                max_iter=1,\n",
    "                random_state=42\n",
    "                )"
   ]
  },
  {
   "cell_type": "markdown",
   "metadata": {},
   "source": [
    "Here we will be calculating the key points on much higher image dimensions"
   ]
  },
  {
   "cell_type": "code",
   "execution_count": 12,
   "metadata": {},
   "outputs": [],
   "source": [
    "def enlarged_point(df_predict_copy,frame_width,frame_hight):\n",
    "        df_predict_copy = df_predict_copy.astype(np.int16)\n",
    "        df_predict_copy = np.array(df_predict_copy)\n",
    "        key_points = []\n",
    "        for i in range(1,31,2):     \n",
    "            b2_frame = np.zeros((96,96,1))\n",
    "            \n",
    "            b2_frame[df_predict_copy[0,i],df_predict_copy[0,i-1]] = 255\n",
    "            x_y = []\n",
    "            b2_frame = cv2.resize(b2_frame,(og_width,og_hight))\n",
    "            hx ,hy = b2_frame.shape\n",
    "            for i in range(hx):\n",
    "                for j in range(hy):\n",
    "                    if b2_frame[i,j] :\n",
    "\n",
    "                        x_y.append([i,j])\n",
    "            x_y = np.array(x_y)\n",
    "            kmeans.fit(x_y[:,:2])\n",
    "            \n",
    "            key_points.append(kmeans.cluster_centers_)\n",
    "\n",
    "        return key_points"
   ]
  },
  {
   "cell_type": "markdown",
   "metadata": {},
   "source": [
    "These are the list of keypoints which we have on our enlarged image or the original image"
   ]
  },
  {
   "cell_type": "code",
   "execution_count": null,
   "metadata": {},
   "outputs": [],
   "source": [
    "# 0 : left_eye_center\n",
    "# 1 : right_eye_center\n",
    "# 2 : left_eye_inner_corner\n",
    "# 3 : left_eye_outer_corner\n",
    "# 4 : right_eye_inner_corner\n",
    "# 5 : right_eye_outer_corner\n",
    "# 6 : left_eyebrow_inner_end\n",
    "# 7 : left_eyebrow_outer_end\n",
    "# 8 : right_eyebrow_inner_end\n",
    "# 9 : right_eyebrow_outer_end\n",
    "# 10 : nose_tip\n",
    "# 11 : mouth_left_corner\n",
    "# 12 : mouth_right_corner\n",
    "# 13 : mouth_center_top_lip\n",
    "# 14 : mouth_center_bottom_lip"
   ]
  },
  {
   "cell_type": "markdown",
   "metadata": {},
   "source": [
    "Here we will be changing the pixel values of our frame in such a way that we we get the filter on right position with right size"
   ]
  },
  {
   "cell_type": "code",
   "execution_count": 13,
   "metadata": {},
   "outputs": [],
   "source": [
    "def santa_filter(key_points,frame_width,frame_hight,x,y):\n",
    "        key_points = np.array(key_points)\n",
    "        \n",
    "#       calculatin the size of the filter.\n",
    "#       Here I have taken the width of filter as little larger than distance of outer eyebrow corners \n",
    "\n",
    "        size_width = (key_points[9,0] - key_points[7,0])*4/3\n",
    "        size_hight = size_width\n",
    "        \n",
    "        \n",
    "        size_width = size_width.astype(np.int16)\n",
    "        size_hight = size_hight.astype(np.int16)\n",
    "        \n",
    "#       positioning the filter\n",
    "#       I have placed the filter starting from below the nose, keeping nose in the center of filter width\n",
    "        \n",
    "        y_dist =  key_points[10,1] \n",
    "        x_dist =  key_points[10,0] - size_width/2 \n",
    "        \n",
    "        x_dist = x_dist.astype(np.int16)\n",
    "        y_dist = y_dist.astype(np.int16)\n",
    "        \n",
    "        \n",
    "#       getting the filter image \n",
    "        try:\n",
    "           \n",
    "            g = cv2.resize(filter_image_copy,(size_width,size_hight))\n",
    "\n",
    "            g = tf.keras.preprocessing.image.array_to_img(g)\n",
    "        \n",
    "            arr_filter = img_to_array(g)\n",
    "\n",
    "        \n",
    "            x_dist = x_dist.astype(np.int16)\n",
    "            y_dist = y_dist.astype(np.int16)\n",
    "\n",
    "            \n",
    "#           Here I have replaced the pixel values of the frame to that of filter image\n",
    "            for i, j in itertools.product(range(arr_filter.shape[1]), range(arr_filter.shape[0])):\n",
    "                if arr_filter[i,j,3] !=0:\n",
    "                    for z in range(3):\n",
    "                        try:\n",
    "                            render[i+y_dist, j+x_dist,z] = arr_filter[i,j,z]\n",
    "                        except:\n",
    "                            continue\n",
    "\n",
    "\n",
    "        except:\n",
    "            clear_output(wait=True)\n",
    "            print('error==> ignore if the filter works fine')\n",
    "            \n",
    "    "
   ]
  },
  {
   "cell_type": "code",
   "execution_count": 14,
   "metadata": {},
   "outputs": [],
   "source": [
    "check_coordinates = []"
   ]
  },
  {
   "cell_type": "code",
   "execution_count": 15,
   "metadata": {},
   "outputs": [
    {
     "name": "stdout",
     "output_type": "stream",
     "text": [
      "error==> ignore if the filter works fine\n"
     ]
    }
   ],
   "source": [
    "# we use the ip webcam for using mobile camera for displaing on our pc \n",
    "while True:\n",
    "\n",
    "    # getting the address for our mobile camera\n",
    "    \n",
    "    # here instead of 192.168.44.1:8080 you write your own ip given by ip webcam for your android\n",
    "    image = requests.get(\"http://192.168.43.1:8080/shot.jpg\") \n",
    "    \n",
    "    # conveerting into numpy array\n",
    "    video = np.array(bytearray(image.content),dtype = np.uint8)\n",
    "    \n",
    "    # decoding our numpy array\n",
    "    render = cv2.imdecode(video,-1)\n",
    "    \n",
    "    #cv2.imshow('frame',render)\n",
    "     \n",
    "    \n",
    "    \n",
    "    # converting into gray scale from rgb\n",
    "    gray = cv2.cvtColor(render, cv2.COLOR_BGR2GRAY)\n",
    "    \n",
    "    # detecting faces\n",
    "    faces = face_cascade.detectMultiScale(gray, 1.3, 5)\n",
    "    \n",
    "    # making a rectangle box on the detected faces\n",
    "    for (x,y,w,h) in faces:\n",
    "        var_p1 = render[ y:y+h ,x:x+w,1]\n",
    "        render = cv2.rectangle(render,(x,y),(x+w,y+h),(255,0,0),2)\n",
    "        \n",
    "        og_width,og_hight = var_p1.shape\n",
    "        \n",
    "#       taking the image of the face and reizing it according to the input shape of our model\n",
    "\n",
    "        image_sample = cv2.resize(var_p1,(96,96))\n",
    "        img = array_to_img(image_sample.reshape((96,96,1)))\n",
    "        arr = img_to_array(img)\n",
    "        \n",
    "        background_image = arr\n",
    "        arr = arr/255\n",
    "        arr = arr.reshape((1,96,96,1))\n",
    "        \n",
    "#       prdecting the key points on the image of the face\n",
    "        df_predict = model.predict(arr)\n",
    "    \n",
    "#         print('model_predicted')\n",
    "        df_enlarged_points = []\n",
    "        df_sample = df_predict\n",
    "#         key_points = np.zeros((15,2))\n",
    "\n",
    "#       getting the key points on the original size of the image of the face \n",
    "        try: \n",
    "            key_points = enlarged_point(df_sample,og_width,og_hight)\n",
    "            key_points = np.array(key_points)\n",
    "            key_points = np.reshape(key_points,(15,2))\n",
    "            key_points = key_points.astype(np.int16)\n",
    "        except:\n",
    "            continue\n",
    "        \n",
    "        \n",
    "\n",
    "#       getting the coordinates of all key points on the frame displayed by open cv\n",
    "        try:\n",
    "            true_coordinates = []\n",
    "            for i in range(15):\n",
    "                center_coordinates = (x+key_points[i,1],y+key_points[i,0])\n",
    "                \n",
    "                true_coordinates.append(center_coordinates)\n",
    "                \n",
    "        except:\n",
    "            continue\n",
    "        \n",
    "#       getting a sample coordinates of key points for furthur visualization and improvment\n",
    "        check_coordinates = true_coordinates\n",
    "         \n",
    "#       applying the santa beard as a filter on the face\n",
    "        try:\n",
    "            santa_filter(true_coordinates ,og_width, og_hight,x,y)\n",
    "        except:\n",
    "            continue\n",
    "            \n",
    "        roi_gray = gray[y:y+h, x:x+w]\n",
    "        roi_color = render[y:y+h, x:x+w]\n",
    "        \n",
    "    # displaying the video frame with detected faces\n",
    "    cv2.imshow('frame',render)\n",
    "    \n",
    "    # setting our terminating commands\n",
    "    if (cv2.waitKey(1)==ord('q')):\n",
    "        cv2.destroyAllWindows()\n",
    "        break"
   ]
  },
  {
   "cell_type": "markdown",
   "metadata": {},
   "source": [
    "# Grayscale visual of a applied filter"
   ]
  },
  {
   "cell_type": "markdown",
   "metadata": {},
   "source": [
    "Here is a black and white representation of applied filter but it displays on rgb frame while running the notebook\n",
    "I have plotted the Key points also for refrence"
   ]
  },
  {
   "cell_type": "code",
   "execution_count": 16,
   "metadata": {
    "scrolled": true
   },
   "outputs": [
    {
     "data": {
      "image/png": "[encoded data removed]",
      "text/plain": [
       "<Figure size 1440x1440 with 1 Axes>"
      ]
     },
     "metadata": {
      "needs_background": "light"
     },
     "output_type": "display_data"
    }
   ],
   "source": [
    "fig = plt.figure(figsize=(20,20))\n",
    "\n",
    "for i in range(1):\n",
    "    ax = fig.add_subplot(4,2,i+1)\n",
    "\n",
    "    plt.imshow(var_p1,cmap='gray')\n",
    "\n",
    "    for j in range(15):\n",
    "        plt.plot(key_points[j,1], key_points[j , 0],'rx')"
   ]
  },
  {
   "cell_type": "code",
   "execution_count": null,
   "metadata": {},
   "outputs": [],
   "source": []
  }
 ],
 "metadata": {
  "kernelspec": {
   "display_name": "gputest",
   "language": "python",
   "name": "gputest"
  },
  "language_info": {
   "codemirror_mode": {
    "name": "ipython",
    "version": 3
   },
   "file_extension": ".py",
   "mimetype": "text/x-python",
   "name": "python",
   "nbconvert_exporter": "python",
   "pygments_lexer": "ipython3",
   "version": "3.7.7"
  }
 },
 "nbformat": 4,
 "nbformat_minor": 4
}
